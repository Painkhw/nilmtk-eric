{
 "metadata": {
  "language_info": {
   "codemirror_mode": {
    "name": "ipython",
    "version": 3
   },
   "file_extension": ".py",
   "mimetype": "text/x-python",
   "name": "python",
   "nbconvert_exporter": "python",
   "pygments_lexer": "ipython3",
   "version": "3.7.8-final"
  },
  "orig_nbformat": 2,
  "kernelspec": {
   "name": "python3",
   "display_name": "Python 3",
   "language": "python"
  }
 },
 "nbformat": 4,
 "nbformat_minor": 2,
 "cells": [
  {
   "cell_type": "code",
   "execution_count": 1,
   "metadata": {},
   "outputs": [],
   "source": [
    "import numpy as np\n",
    "import pandas as pd\n",
    "import matplotlib.pyplot as plt\n",
    "import seaborn as sns\n",
    "from pandas import Series, DataFrame \n",
    "\n",
    "\n"
   ]
  },
  {
   "cell_type": "code",
   "execution_count": 2,
   "metadata": {},
   "outputs": [
    {
     "output_type": "execute_result",
     "data": {
      "text/plain": [
       "            class   algorithm        mae        rmse   f1score  accuracy  \\\n",
       "0         fridge         Mean  78.221504   86.825846  0.637391  0.467773   \n",
       "1         fridge   FHMM_EXACT  43.465469   77.996933  0.781208  0.797092   \n",
       "2         fridge       Hart85  29.433466   62.708206  0.851006  0.868292   \n",
       "3         fridge        AFHMM  70.263237  102.324020  0.524298  0.517738   \n",
       "4         fridge    AFHMM_SAC  38.511974   58.616306  0.734874  0.670481   \n",
       "5         fridge           CO  52.252468   83.378528  0.742315  0.781353   \n",
       "6     microwave          Mean  16.557634   96.249290  0.192622  0.106575   \n",
       "7     microwave    FHMM_EXACT  35.413544  153.170656  0.163029  0.877386   \n",
       "8     microwave        Hart85  15.406017   97.401738  0.000000  0.893425   \n",
       "9     microwave         AFHMM  88.575668  161.760752  0.225096  0.416209   \n",
       "10    microwave     AFHMM_SAC  14.931919   70.961367  0.184068  0.812181   \n",
       "11    microwave            CO  38.539383  128.474538  0.272036  0.870840   \n",
       "12  dish washer          Mean  20.992733   95.063990  0.027692  0.014040   \n",
       "13  dish washer    FHMM_EXACT  67.189201  189.146035  0.145734  0.883432   \n",
       "14  dish washer        Hart85   8.972035   95.421055  0.000000  0.985960   \n",
       "15  dish washer         AFHMM  90.881332  146.141573  0.034583  0.255171   \n",
       "16  dish washer     AFHMM_SAC  18.328880   93.037664  0.077821  0.857899   \n",
       "17  dish washer            CO  66.408615  150.301111  0.061823  0.736135   \n",
       "18         light         Mean  25.094093   46.800373  0.368601  0.225942   \n",
       "19         light   FHMM_EXACT  49.262310   62.111187  0.356377  0.490157   \n",
       "20         light       Hart85  27.125608   53.560754  0.000000  0.774058   \n",
       "21         light        AFHMM  24.085457   45.167198  0.449881  0.665184   \n",
       "22         light    AFHMM_SAC  26.095428   46.996707  0.417451  0.452933   \n",
       "23         light           CO  68.273514   81.684395  0.257442  0.199860   \n",
       "\n",
       "    precision  Unnamed: 7 Unnamed: 8  \n",
       "0    0.467773         NaN        NaN  \n",
       "1    0.788129         NaN        NaN  \n",
       "2    0.903721         NaN        NaN  \n",
       "3    0.486731         NaN        NaN  \n",
       "4    0.589183         NaN        NaN  \n",
       "5    0.827165         NaN        NaN  \n",
       "6    0.106575         NaN        NaN  \n",
       "7    0.299124         NaN        NaN  \n",
       "8    0.000000         NaN        NaN  \n",
       "9    0.131093         NaN        NaN  \n",
       "10   0.171382         NaN        NaN  \n",
       "11   0.340621         NaN        NaN  \n",
       "12   0.014040         NaN        NaN  \n",
       "13   0.081224         NaN        NaN  \n",
       "14   0.000000         NaN             \n",
       "15   0.017612         NaN        NaN  \n",
       "16   0.042811         NaN        NaN  \n",
       "17   0.032536         NaN        NaN  \n",
       "18   0.225942         NaN        NaN  \n",
       "19   0.249294         NaN        NaN  \n",
       "20   0.000000         NaN        NaN  \n",
       "21   0.357749         NaN        NaN  \n",
       "22   0.274855         NaN        NaN  \n",
       "23   0.162873         NaN        NaN  "
      ],
      "text/html": "<div>\n<style scoped>\n    .dataframe tbody tr th:only-of-type {\n        vertical-align: middle;\n    }\n\n    .dataframe tbody tr th {\n        vertical-align: top;\n    }\n\n    .dataframe thead th {\n        text-align: right;\n    }\n</style>\n<table border=\"1\" class=\"dataframe\">\n  <thead>\n    <tr style=\"text-align: right;\">\n      <th></th>\n      <th>class</th>\n      <th>algorithm</th>\n      <th>mae</th>\n      <th>rmse</th>\n      <th>f1score</th>\n      <th>accuracy</th>\n      <th>precision</th>\n      <th>Unnamed: 7</th>\n      <th>Unnamed: 8</th>\n    </tr>\n  </thead>\n  <tbody>\n    <tr>\n      <th>0</th>\n      <td>fridge</td>\n      <td>Mean</td>\n      <td>78.221504</td>\n      <td>86.825846</td>\n      <td>0.637391</td>\n      <td>0.467773</td>\n      <td>0.467773</td>\n      <td>NaN</td>\n      <td>NaN</td>\n    </tr>\n    <tr>\n      <th>1</th>\n      <td>fridge</td>\n      <td>FHMM_EXACT</td>\n      <td>43.465469</td>\n      <td>77.996933</td>\n      <td>0.781208</td>\n      <td>0.797092</td>\n      <td>0.788129</td>\n      <td>NaN</td>\n      <td>NaN</td>\n    </tr>\n    <tr>\n      <th>2</th>\n      <td>fridge</td>\n      <td>Hart85</td>\n      <td>29.433466</td>\n      <td>62.708206</td>\n      <td>0.851006</td>\n      <td>0.868292</td>\n      <td>0.903721</td>\n      <td>NaN</td>\n      <td>NaN</td>\n    </tr>\n    <tr>\n      <th>3</th>\n      <td>fridge</td>\n      <td>AFHMM</td>\n      <td>70.263237</td>\n      <td>102.324020</td>\n      <td>0.524298</td>\n      <td>0.517738</td>\n      <td>0.486731</td>\n      <td>NaN</td>\n      <td>NaN</td>\n    </tr>\n    <tr>\n      <th>4</th>\n      <td>fridge</td>\n      <td>AFHMM_SAC</td>\n      <td>38.511974</td>\n      <td>58.616306</td>\n      <td>0.734874</td>\n      <td>0.670481</td>\n      <td>0.589183</td>\n      <td>NaN</td>\n      <td>NaN</td>\n    </tr>\n    <tr>\n      <th>5</th>\n      <td>fridge</td>\n      <td>CO</td>\n      <td>52.252468</td>\n      <td>83.378528</td>\n      <td>0.742315</td>\n      <td>0.781353</td>\n      <td>0.827165</td>\n      <td>NaN</td>\n      <td>NaN</td>\n    </tr>\n    <tr>\n      <th>6</th>\n      <td>microwave</td>\n      <td>Mean</td>\n      <td>16.557634</td>\n      <td>96.249290</td>\n      <td>0.192622</td>\n      <td>0.106575</td>\n      <td>0.106575</td>\n      <td>NaN</td>\n      <td>NaN</td>\n    </tr>\n    <tr>\n      <th>7</th>\n      <td>microwave</td>\n      <td>FHMM_EXACT</td>\n      <td>35.413544</td>\n      <td>153.170656</td>\n      <td>0.163029</td>\n      <td>0.877386</td>\n      <td>0.299124</td>\n      <td>NaN</td>\n      <td>NaN</td>\n    </tr>\n    <tr>\n      <th>8</th>\n      <td>microwave</td>\n      <td>Hart85</td>\n      <td>15.406017</td>\n      <td>97.401738</td>\n      <td>0.000000</td>\n      <td>0.893425</td>\n      <td>0.000000</td>\n      <td>NaN</td>\n      <td>NaN</td>\n    </tr>\n    <tr>\n      <th>9</th>\n      <td>microwave</td>\n      <td>AFHMM</td>\n      <td>88.575668</td>\n      <td>161.760752</td>\n      <td>0.225096</td>\n      <td>0.416209</td>\n      <td>0.131093</td>\n      <td>NaN</td>\n      <td>NaN</td>\n    </tr>\n    <tr>\n      <th>10</th>\n      <td>microwave</td>\n      <td>AFHMM_SAC</td>\n      <td>14.931919</td>\n      <td>70.961367</td>\n      <td>0.184068</td>\n      <td>0.812181</td>\n      <td>0.171382</td>\n      <td>NaN</td>\n      <td>NaN</td>\n    </tr>\n    <tr>\n      <th>11</th>\n      <td>microwave</td>\n      <td>CO</td>\n      <td>38.539383</td>\n      <td>128.474538</td>\n      <td>0.272036</td>\n      <td>0.870840</td>\n      <td>0.340621</td>\n      <td>NaN</td>\n      <td>NaN</td>\n    </tr>\n    <tr>\n      <th>12</th>\n      <td>dish washer</td>\n      <td>Mean</td>\n      <td>20.992733</td>\n      <td>95.063990</td>\n      <td>0.027692</td>\n      <td>0.014040</td>\n      <td>0.014040</td>\n      <td>NaN</td>\n      <td>NaN</td>\n    </tr>\n    <tr>\n      <th>13</th>\n      <td>dish washer</td>\n      <td>FHMM_EXACT</td>\n      <td>67.189201</td>\n      <td>189.146035</td>\n      <td>0.145734</td>\n      <td>0.883432</td>\n      <td>0.081224</td>\n      <td>NaN</td>\n      <td>NaN</td>\n    </tr>\n    <tr>\n      <th>14</th>\n      <td>dish washer</td>\n      <td>Hart85</td>\n      <td>8.972035</td>\n      <td>95.421055</td>\n      <td>0.000000</td>\n      <td>0.985960</td>\n      <td>0.000000</td>\n      <td>NaN</td>\n      <td></td>\n    </tr>\n    <tr>\n      <th>15</th>\n      <td>dish washer</td>\n      <td>AFHMM</td>\n      <td>90.881332</td>\n      <td>146.141573</td>\n      <td>0.034583</td>\n      <td>0.255171</td>\n      <td>0.017612</td>\n      <td>NaN</td>\n      <td>NaN</td>\n    </tr>\n    <tr>\n      <th>16</th>\n      <td>dish washer</td>\n      <td>AFHMM_SAC</td>\n      <td>18.328880</td>\n      <td>93.037664</td>\n      <td>0.077821</td>\n      <td>0.857899</td>\n      <td>0.042811</td>\n      <td>NaN</td>\n      <td>NaN</td>\n    </tr>\n    <tr>\n      <th>17</th>\n      <td>dish washer</td>\n      <td>CO</td>\n      <td>66.408615</td>\n      <td>150.301111</td>\n      <td>0.061823</td>\n      <td>0.736135</td>\n      <td>0.032536</td>\n      <td>NaN</td>\n      <td>NaN</td>\n    </tr>\n    <tr>\n      <th>18</th>\n      <td>light</td>\n      <td>Mean</td>\n      <td>25.094093</td>\n      <td>46.800373</td>\n      <td>0.368601</td>\n      <td>0.225942</td>\n      <td>0.225942</td>\n      <td>NaN</td>\n      <td>NaN</td>\n    </tr>\n    <tr>\n      <th>19</th>\n      <td>light</td>\n      <td>FHMM_EXACT</td>\n      <td>49.262310</td>\n      <td>62.111187</td>\n      <td>0.356377</td>\n      <td>0.490157</td>\n      <td>0.249294</td>\n      <td>NaN</td>\n      <td>NaN</td>\n    </tr>\n    <tr>\n      <th>20</th>\n      <td>light</td>\n      <td>Hart85</td>\n      <td>27.125608</td>\n      <td>53.560754</td>\n      <td>0.000000</td>\n      <td>0.774058</td>\n      <td>0.000000</td>\n      <td>NaN</td>\n      <td>NaN</td>\n    </tr>\n    <tr>\n      <th>21</th>\n      <td>light</td>\n      <td>AFHMM</td>\n      <td>24.085457</td>\n      <td>45.167198</td>\n      <td>0.449881</td>\n      <td>0.665184</td>\n      <td>0.357749</td>\n      <td>NaN</td>\n      <td>NaN</td>\n    </tr>\n    <tr>\n      <th>22</th>\n      <td>light</td>\n      <td>AFHMM_SAC</td>\n      <td>26.095428</td>\n      <td>46.996707</td>\n      <td>0.417451</td>\n      <td>0.452933</td>\n      <td>0.274855</td>\n      <td>NaN</td>\n      <td>NaN</td>\n    </tr>\n    <tr>\n      <th>23</th>\n      <td>light</td>\n      <td>CO</td>\n      <td>68.273514</td>\n      <td>81.684395</td>\n      <td>0.257442</td>\n      <td>0.199860</td>\n      <td>0.162873</td>\n      <td>NaN</td>\n      <td>NaN</td>\n    </tr>\n  </tbody>\n</table>\n</div>"
     },
     "metadata": {},
     "execution_count": 2
    }
   ],
   "source": [
    "pstore = pd.read_csv(\"/data/ex_lagency.csv\")\n",
    "pstore.head(24)"
   ]
  },
  {
   "cell_type": "code",
   "execution_count": null,
   "metadata": {},
   "outputs": [],
   "source": [
    "pstore.describe()"
   ]
  },
  {
   "cell_type": "code",
   "execution_count": null,
   "metadata": {},
   "outputs": [],
   "source": [
    "sns.set(style=\"darkgrid\")\n",
    "ax = sns.countplot(x=\"class\", data=pstore,hue=\"algorithm\")"
   ]
  },
  {
   "cell_type": "code",
   "execution_count": null,
   "metadata": {},
   "outputs": [],
   "source": [
    "g = sns.FacetGrid(data=pstore, col=\"class\", row=\"algorithm\")\n",
    "g.map_dataframe(sns.histplot, x=\"class\", binwidth=4)\n",
    "g.set_axis_labels(\"mae\",\"rmse\",\"f1score\",\"accuracy\",\"precision\")"
   ]
  },
  {
   "cell_type": "code",
   "execution_count": null,
   "metadata": {},
   "outputs": [],
   "source": [
    "g = sns.PairGrid(pstore, hue='class')\n",
    "g.map_upper(sns.lineplot)\n",
    "g.map_lower(sns.kdeplot)\n",
    "g.map_diag(sns.kdeplot, lw=3, legend=False)"
   ]
  },
  {
   "cell_type": "code",
   "execution_count": null,
   "metadata": {},
   "outputs": [],
   "source": [
    "sns.pairplot(pstore[['mae','rmse','f1score','accuracy','precision']])"
   ]
  },
  {
   "cell_type": "code",
   "execution_count": null,
   "metadata": {},
   "outputs": [],
   "source": [
    "sb."
   ]
  }
 ]
}